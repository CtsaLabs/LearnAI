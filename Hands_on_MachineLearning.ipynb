{
 "cells": [
  {
   "cell_type": "markdown",
   "id": "a7f37099",
   "metadata": {},
   "source": [
    "In the real estate market, accurately predicting the price of a house is crucial for both buyers and sellers to make informed decisions. However, the process is often complex due to the multitude of factors that can influence a house's price, such as its size, location, age, and amenities. Traditional methods of price estimation can be time-consuming and may not always capture the nuanced interactions between these factors.\n",
    "\n",
    "Using machine learning methods develop a model to predict the price of houses given a data with 5000 records including the area, number of bedrooms, bathrooms, garage, age, etc"
   ]
  },
  {
   "cell_type": "code",
   "execution_count": 50,
   "id": "2adef584",
   "metadata": {},
   "outputs": [],
   "source": [
    "#importing necessary libaries\n",
    "import numpy as np\n",
    "import pandas as pd\n",
    "import seaborn as sns\n",
    "import matplotlib.pyplot as plt"
   ]
  },
  {
   "cell_type": "code",
   "execution_count": 3,
   "id": "b3c74021",
   "metadata": {},
   "outputs": [],
   "source": [
    "#import data\n",
    "df = pd.read_csv('house_prices.csv')"
   ]
  },
  {
   "cell_type": "code",
   "execution_count": null,
   "id": "6c2c8aeb",
   "metadata": {},
   "outputs": [],
   "source": [
    "# price is the target"
   ]
  },
  {
   "cell_type": "code",
   "execution_count": 4,
   "id": "708ac85d",
   "metadata": {},
   "outputs": [
    {
     "data": {
      "text/html": [
       "<div>\n",
       "<style scoped>\n",
       "    .dataframe tbody tr th:only-of-type {\n",
       "        vertical-align: middle;\n",
       "    }\n",
       "\n",
       "    .dataframe tbody tr th {\n",
       "        vertical-align: top;\n",
       "    }\n",
       "\n",
       "    .dataframe thead th {\n",
       "        text-align: right;\n",
       "    }\n",
       "</style>\n",
       "<table border=\"1\" class=\"dataframe\">\n",
       "  <thead>\n",
       "    <tr style=\"text-align: right;\">\n",
       "      <th></th>\n",
       "      <th>Area</th>\n",
       "      <th>Bedrooms</th>\n",
       "      <th>Bathrooms</th>\n",
       "      <th>Location</th>\n",
       "      <th>Age</th>\n",
       "      <th>Garage</th>\n",
       "      <th>Price</th>\n",
       "    </tr>\n",
       "  </thead>\n",
       "  <tbody>\n",
       "    <tr>\n",
       "      <th>0</th>\n",
       "      <td>3774</td>\n",
       "      <td>4</td>\n",
       "      <td>2</td>\n",
       "      <td>Location3</td>\n",
       "      <td>23</td>\n",
       "      <td>0</td>\n",
       "      <td>814142.617182</td>\n",
       "    </tr>\n",
       "    <tr>\n",
       "      <th>1</th>\n",
       "      <td>4107</td>\n",
       "      <td>2</td>\n",
       "      <td>2</td>\n",
       "      <td>Location3</td>\n",
       "      <td>46</td>\n",
       "      <td>0</td>\n",
       "      <td>836259.082065</td>\n",
       "    </tr>\n",
       "    <tr>\n",
       "      <th>2</th>\n",
       "      <td>1460</td>\n",
       "      <td>3</td>\n",
       "      <td>3</td>\n",
       "      <td>Location2</td>\n",
       "      <td>113</td>\n",
       "      <td>1</td>\n",
       "      <td>296721.573960</td>\n",
       "    </tr>\n",
       "    <tr>\n",
       "      <th>3</th>\n",
       "      <td>1894</td>\n",
       "      <td>5</td>\n",
       "      <td>2</td>\n",
       "      <td>Location1</td>\n",
       "      <td>30</td>\n",
       "      <td>0</td>\n",
       "      <td>399099.591046</td>\n",
       "    </tr>\n",
       "    <tr>\n",
       "      <th>4</th>\n",
       "      <td>1730</td>\n",
       "      <td>3</td>\n",
       "      <td>2</td>\n",
       "      <td>Location5</td>\n",
       "      <td>67</td>\n",
       "      <td>0</td>\n",
       "      <td>441862.941002</td>\n",
       "    </tr>\n",
       "  </tbody>\n",
       "</table>\n",
       "</div>"
      ],
      "text/plain": [
       "   Area  Bedrooms  Bathrooms   Location  Age  Garage          Price\n",
       "0  3774         4          2  Location3   23       0  814142.617182\n",
       "1  4107         2          2  Location3   46       0  836259.082065\n",
       "2  1460         3          3  Location2  113       1  296721.573960\n",
       "3  1894         5          2  Location1   30       0  399099.591046\n",
       "4  1730         3          2  Location5   67       0  441862.941002"
      ]
     },
     "execution_count": 4,
     "metadata": {},
     "output_type": "execute_result"
    }
   ],
   "source": [
    "#first 5 rows\n",
    "df.head()"
   ]
  },
  {
   "cell_type": "markdown",
   "id": "606ef916",
   "metadata": {},
   "source": [
    "### EDA"
   ]
  },
  {
   "cell_type": "code",
   "execution_count": 5,
   "id": "68269edb",
   "metadata": {},
   "outputs": [
    {
     "data": {
      "text/plain": [
       "Index(['Area', 'Bedrooms', 'Bathrooms', 'Location', 'Age', 'Garage', 'Price'], dtype='object')"
      ]
     },
     "execution_count": 5,
     "metadata": {},
     "output_type": "execute_result"
    }
   ],
   "source": [
    "df.columns"
   ]
  },
  {
   "cell_type": "code",
   "execution_count": 6,
   "id": "814e53fb",
   "metadata": {},
   "outputs": [
    {
     "name": "stdout",
     "output_type": "stream",
     "text": [
      "<class 'pandas.core.frame.DataFrame'>\n",
      "RangeIndex: 5000 entries, 0 to 4999\n",
      "Data columns (total 7 columns):\n",
      " #   Column     Non-Null Count  Dtype  \n",
      "---  ------     --------------  -----  \n",
      " 0   Area       5000 non-null   int64  \n",
      " 1   Bedrooms   5000 non-null   int64  \n",
      " 2   Bathrooms  5000 non-null   int64  \n",
      " 3   Location   5000 non-null   object \n",
      " 4   Age        5000 non-null   int64  \n",
      " 5   Garage     5000 non-null   int64  \n",
      " 6   Price      5000 non-null   float64\n",
      "dtypes: float64(1), int64(5), object(1)\n",
      "memory usage: 273.6+ KB\n"
     ]
    }
   ],
   "source": [
    "#short description\n",
    "df.info()"
   ]
  },
  {
   "cell_type": "code",
   "execution_count": 7,
   "id": "cba26f32",
   "metadata": {},
   "outputs": [
    {
     "data": {
      "text/html": [
       "<div>\n",
       "<style scoped>\n",
       "    .dataframe tbody tr th:only-of-type {\n",
       "        vertical-align: middle;\n",
       "    }\n",
       "\n",
       "    .dataframe tbody tr th {\n",
       "        vertical-align: top;\n",
       "    }\n",
       "\n",
       "    .dataframe thead th {\n",
       "        text-align: right;\n",
       "    }\n",
       "</style>\n",
       "<table border=\"1\" class=\"dataframe\">\n",
       "  <thead>\n",
       "    <tr style=\"text-align: right;\">\n",
       "      <th></th>\n",
       "      <th>Area</th>\n",
       "      <th>Bedrooms</th>\n",
       "      <th>Bathrooms</th>\n",
       "      <th>Age</th>\n",
       "      <th>Garage</th>\n",
       "      <th>Price</th>\n",
       "    </tr>\n",
       "  </thead>\n",
       "  <tbody>\n",
       "    <tr>\n",
       "      <th>count</th>\n",
       "      <td>5000.000000</td>\n",
       "      <td>5000.0000</td>\n",
       "      <td>5000.000000</td>\n",
       "      <td>5000.000000</td>\n",
       "      <td>5000.000000</td>\n",
       "      <td>5.000000e+03</td>\n",
       "    </tr>\n",
       "    <tr>\n",
       "      <th>mean</th>\n",
       "      <td>2567.655200</td>\n",
       "      <td>2.9982</td>\n",
       "      <td>1.976600</td>\n",
       "      <td>60.154600</td>\n",
       "      <td>1.008800</td>\n",
       "      <td>5.573903e+05</td>\n",
       "    </tr>\n",
       "    <tr>\n",
       "      <th>std</th>\n",
       "      <td>1120.887667</td>\n",
       "      <td>1.4140</td>\n",
       "      <td>0.819382</td>\n",
       "      <td>34.280037</td>\n",
       "      <td>0.819547</td>\n",
       "      <td>2.211179e+05</td>\n",
       "    </tr>\n",
       "    <tr>\n",
       "      <th>min</th>\n",
       "      <td>600.000000</td>\n",
       "      <td>1.0000</td>\n",
       "      <td>1.000000</td>\n",
       "      <td>1.000000</td>\n",
       "      <td>0.000000</td>\n",
       "      <td>4.047702e+04</td>\n",
       "    </tr>\n",
       "    <tr>\n",
       "      <th>25%</th>\n",
       "      <td>1592.750000</td>\n",
       "      <td>2.0000</td>\n",
       "      <td>1.000000</td>\n",
       "      <td>31.000000</td>\n",
       "      <td>0.000000</td>\n",
       "      <td>3.783680e+05</td>\n",
       "    </tr>\n",
       "    <tr>\n",
       "      <th>50%</th>\n",
       "      <td>2561.500000</td>\n",
       "      <td>3.0000</td>\n",
       "      <td>2.000000</td>\n",
       "      <td>60.000000</td>\n",
       "      <td>1.000000</td>\n",
       "      <td>5.477114e+05</td>\n",
       "    </tr>\n",
       "    <tr>\n",
       "      <th>75%</th>\n",
       "      <td>3550.250000</td>\n",
       "      <td>4.0000</td>\n",
       "      <td>3.000000</td>\n",
       "      <td>89.250000</td>\n",
       "      <td>2.000000</td>\n",
       "      <td>7.254004e+05</td>\n",
       "    </tr>\n",
       "    <tr>\n",
       "      <th>max</th>\n",
       "      <td>4499.000000</td>\n",
       "      <td>5.0000</td>\n",
       "      <td>3.000000</td>\n",
       "      <td>119.000000</td>\n",
       "      <td>2.000000</td>\n",
       "      <td>1.192210e+06</td>\n",
       "    </tr>\n",
       "  </tbody>\n",
       "</table>\n",
       "</div>"
      ],
      "text/plain": [
       "              Area   Bedrooms    Bathrooms          Age       Garage  \\\n",
       "count  5000.000000  5000.0000  5000.000000  5000.000000  5000.000000   \n",
       "mean   2567.655200     2.9982     1.976600    60.154600     1.008800   \n",
       "std    1120.887667     1.4140     0.819382    34.280037     0.819547   \n",
       "min     600.000000     1.0000     1.000000     1.000000     0.000000   \n",
       "25%    1592.750000     2.0000     1.000000    31.000000     0.000000   \n",
       "50%    2561.500000     3.0000     2.000000    60.000000     1.000000   \n",
       "75%    3550.250000     4.0000     3.000000    89.250000     2.000000   \n",
       "max    4499.000000     5.0000     3.000000   119.000000     2.000000   \n",
       "\n",
       "              Price  \n",
       "count  5.000000e+03  \n",
       "mean   5.573903e+05  \n",
       "std    2.211179e+05  \n",
       "min    4.047702e+04  \n",
       "25%    3.783680e+05  \n",
       "50%    5.477114e+05  \n",
       "75%    7.254004e+05  \n",
       "max    1.192210e+06  "
      ]
     },
     "execution_count": 7,
     "metadata": {},
     "output_type": "execute_result"
    }
   ],
   "source": [
    "#a simple statistical description\n",
    "df.describe()"
   ]
  },
  {
   "cell_type": "code",
   "execution_count": 8,
   "id": "dc865743",
   "metadata": {},
   "outputs": [
    {
     "data": {
      "text/html": [
       "<div>\n",
       "<style scoped>\n",
       "    .dataframe tbody tr th:only-of-type {\n",
       "        vertical-align: middle;\n",
       "    }\n",
       "\n",
       "    .dataframe tbody tr th {\n",
       "        vertical-align: top;\n",
       "    }\n",
       "\n",
       "    .dataframe thead th {\n",
       "        text-align: right;\n",
       "    }\n",
       "</style>\n",
       "<table border=\"1\" class=\"dataframe\">\n",
       "  <thead>\n",
       "    <tr style=\"text-align: right;\">\n",
       "      <th></th>\n",
       "      <th>Location</th>\n",
       "    </tr>\n",
       "  </thead>\n",
       "  <tbody>\n",
       "    <tr>\n",
       "      <th>count</th>\n",
       "      <td>5000</td>\n",
       "    </tr>\n",
       "    <tr>\n",
       "      <th>unique</th>\n",
       "      <td>5</td>\n",
       "    </tr>\n",
       "    <tr>\n",
       "      <th>top</th>\n",
       "      <td>Location2</td>\n",
       "    </tr>\n",
       "    <tr>\n",
       "      <th>freq</th>\n",
       "      <td>1056</td>\n",
       "    </tr>\n",
       "  </tbody>\n",
       "</table>\n",
       "</div>"
      ],
      "text/plain": [
       "         Location\n",
       "count        5000\n",
       "unique          5\n",
       "top     Location2\n",
       "freq         1056"
      ]
     },
     "execution_count": 8,
     "metadata": {},
     "output_type": "execute_result"
    }
   ],
   "source": [
    "#a simple statistical description for the Categorical column, where (include='O') means include Object datatype\n",
    "df.describe(include='O')"
   ]
  },
  {
   "cell_type": "code",
   "execution_count": 9,
   "id": "dc08541a",
   "metadata": {},
   "outputs": [
    {
     "data": {
      "text/plain": [
       "Area         0\n",
       "Bedrooms     0\n",
       "Bathrooms    0\n",
       "Location     0\n",
       "Age          0\n",
       "Garage       0\n",
       "Price        0\n",
       "dtype: int64"
      ]
     },
     "execution_count": 9,
     "metadata": {},
     "output_type": "execute_result"
    }
   ],
   "source": [
    "# checking if there is missing value\n",
    "df.isnull().sum()"
   ]
  },
  {
   "cell_type": "markdown",
   "id": "5905b018",
   "metadata": {},
   "source": [
    "There are no missing values in the data"
   ]
  },
  {
   "cell_type": "markdown",
   "id": "4e613082",
   "metadata": {},
   "source": [
    "#### Univariate Analysis"
   ]
  },
  {
   "cell_type": "code",
   "execution_count": 10,
   "id": "f1916097",
   "metadata": {},
   "outputs": [
    {
     "data": {
      "text/plain": [
       "Bedrooms\n",
       "2    1039\n",
       "5    1008\n",
       "1     985\n",
       "4     984\n",
       "3     984\n",
       "Name: count, dtype: int64"
      ]
     },
     "execution_count": 10,
     "metadata": {},
     "output_type": "execute_result"
    }
   ],
   "source": [
    "df.Bedrooms.value_counts()"
   ]
  },
  {
   "cell_type": "code",
   "execution_count": 11,
   "id": "bcd96671",
   "metadata": {},
   "outputs": [
    {
     "data": {
      "image/png": "[encoded data removed]",
      "text/plain": [
       "<Figure size 640x480 with 1 Axes>"
      ]
     },
     "metadata": {},
     "output_type": "display_data"
    }
   ],
   "source": [
    "#count of all the number of bedrooms in descending order\n",
    "sns.countplot(x=df.Bedrooms, color='green', order = df.Bedrooms.value_counts().keys() );"
   ]
  },
  {
   "cell_type": "code",
   "execution_count": 21,
   "id": "58eb98a3",
   "metadata": {},
   "outputs": [
    {
     "data": {
      "image/png": "[encoded data removed]",
      "text/plain": [
       "<Figure size 432x288 with 1 Axes>"
      ]
     },
     "metadata": {
      "needs_background": "light"
     },
     "output_type": "display_data"
    }
   ],
   "source": [
    "#count of all the location where the data was gotten from\n",
    "sns.countplot(y=df.Location, color='blue', order = df.Location.value_counts().keys());"
   ]
  },
  {
   "cell_type": "code",
   "execution_count": null,
   "id": "8bc6fa90",
   "metadata": {},
   "outputs": [],
   "source": []
  },
  {
   "cell_type": "code",
   "execution_count": null,
   "id": "1b1b9b65",
   "metadata": {},
   "outputs": [],
   "source": [
    "# check for all houses that are more than 119 years"
   ]
  },
  {
   "cell_type": "markdown",
   "id": "e0de8f77",
   "metadata": {},
   "source": [
    "# new program with a dirty dataset"
   ]
  },
  {
   "cell_type": "code",
   "execution_count": 13,
   "id": "ee420c81",
   "metadata": {},
   "outputs": [],
   "source": [
    "#import dirty data\n",
    "df = pd.read_csv('house_prices_dirty.csv')"
   ]
  },
  {
   "cell_type": "code",
   "execution_count": 14,
   "id": "44aa418b",
   "metadata": {},
   "outputs": [
    {
     "data": {
      "text/html": [
       "<div>\n",
       "<style scoped>\n",
       "    .dataframe tbody tr th:only-of-type {\n",
       "        vertical-align: middle;\n",
       "    }\n",
       "\n",
       "    .dataframe tbody tr th {\n",
       "        vertical-align: top;\n",
       "    }\n",
       "\n",
       "    .dataframe thead th {\n",
       "        text-align: right;\n",
       "    }\n",
       "</style>\n",
       "<table border=\"1\" class=\"dataframe\">\n",
       "  <thead>\n",
       "    <tr style=\"text-align: right;\">\n",
       "      <th></th>\n",
       "      <th>Area</th>\n",
       "      <th>Bedrooms</th>\n",
       "      <th>Bathrooms</th>\n",
       "      <th>Location</th>\n",
       "      <th>Age</th>\n",
       "      <th>Garage</th>\n",
       "      <th>Price</th>\n",
       "    </tr>\n",
       "  </thead>\n",
       "  <tbody>\n",
       "    <tr>\n",
       "      <th>0</th>\n",
       "      <td>3774</td>\n",
       "      <td>4</td>\n",
       "      <td>2</td>\n",
       "      <td>Location3</td>\n",
       "      <td>23.0</td>\n",
       "      <td>0</td>\n",
       "      <td>814142.617200</td>\n",
       "    </tr>\n",
       "    <tr>\n",
       "      <th>1</th>\n",
       "      <td>4107</td>\n",
       "      <td>2</td>\n",
       "      <td>2</td>\n",
       "      <td>Location3</td>\n",
       "      <td>46.0</td>\n",
       "      <td>0</td>\n",
       "      <td>836259.082065</td>\n",
       "    </tr>\n",
       "    <tr>\n",
       "      <th>2</th>\n",
       "      <td>1460</td>\n",
       "      <td>3</td>\n",
       "      <td>3</td>\n",
       "      <td>Location2</td>\n",
       "      <td>113.0</td>\n",
       "      <td>1</td>\n",
       "      <td>296721.573960</td>\n",
       "    </tr>\n",
       "    <tr>\n",
       "      <th>3</th>\n",
       "      <td>1894</td>\n",
       "      <td>5</td>\n",
       "      <td>2</td>\n",
       "      <td>NaN</td>\n",
       "      <td>30.0</td>\n",
       "      <td>0</td>\n",
       "      <td>399099.591046</td>\n",
       "    </tr>\n",
       "    <tr>\n",
       "      <th>4</th>\n",
       "      <td>1730</td>\n",
       "      <td>3</td>\n",
       "      <td>2</td>\n",
       "      <td>Location5</td>\n",
       "      <td>67.0</td>\n",
       "      <td>0</td>\n",
       "      <td>441862.941002</td>\n",
       "    </tr>\n",
       "  </tbody>\n",
       "</table>\n",
       "</div>"
      ],
      "text/plain": [
       "   Area  Bedrooms  Bathrooms   Location    Age  Garage          Price\n",
       "0  3774         4          2  Location3   23.0       0  814142.617200\n",
       "1  4107         2          2  Location3   46.0       0  836259.082065\n",
       "2  1460         3          3  Location2  113.0       1  296721.573960\n",
       "3  1894         5          2        NaN   30.0       0  399099.591046\n",
       "4  1730         3          2  Location5   67.0       0  441862.941002"
      ]
     },
     "execution_count": 14,
     "metadata": {},
     "output_type": "execute_result"
    }
   ],
   "source": [
    "#first 5 rows\n",
    "df.head()"
   ]
  },
  {
   "cell_type": "markdown",
   "id": "43e596e0",
   "metadata": {},
   "source": [
    "## EDA"
   ]
  },
  {
   "cell_type": "code",
   "execution_count": 15,
   "id": "007bb732",
   "metadata": {},
   "outputs": [
    {
     "data": {
      "text/plain": [
       "Index(['Area', 'Bedrooms', 'Bathrooms', 'Location', 'Age', 'Garage', 'Price'], dtype='object')"
      ]
     },
     "execution_count": 15,
     "metadata": {},
     "output_type": "execute_result"
    }
   ],
   "source": [
    "df.columns"
   ]
  },
  {
   "cell_type": "code",
   "execution_count": 17,
   "id": "00bfe6c5",
   "metadata": {},
   "outputs": [
    {
     "name": "stdout",
     "output_type": "stream",
     "text": [
      "<class 'pandas.core.frame.DataFrame'>\n",
      "RangeIndex: 5000 entries, 0 to 4999\n",
      "Data columns (total 7 columns):\n",
      " #   Column     Non-Null Count  Dtype  \n",
      "---  ------     --------------  -----  \n",
      " 0   Area       5000 non-null   int64  \n",
      " 1   Bedrooms   5000 non-null   int64  \n",
      " 2   Bathrooms  5000 non-null   int64  \n",
      " 3   Location   4969 non-null   object \n",
      " 4   Age        4907 non-null   float64\n",
      " 5   Garage     5000 non-null   int64  \n",
      " 6   Price      5000 non-null   float64\n",
      "dtypes: float64(2), int64(4), object(1)\n",
      "memory usage: 273.6+ KB\n"
     ]
    }
   ],
   "source": [
    "df.info()"
   ]
  },
  {
   "cell_type": "code",
   "execution_count": null,
   "id": "550d84fb",
   "metadata": {},
   "outputs": [],
   "source": [
    "# Column Location and Age has incomplete data"
   ]
  },
  {
   "cell_type": "code",
   "execution_count": 18,
   "id": "3bbe0eb4",
   "metadata": {},
   "outputs": [
    {
     "data": {
      "text/html": [
       "<div>\n",
       "<style scoped>\n",
       "    .dataframe tbody tr th:only-of-type {\n",
       "        vertical-align: middle;\n",
       "    }\n",
       "\n",
       "    .dataframe tbody tr th {\n",
       "        vertical-align: top;\n",
       "    }\n",
       "\n",
       "    .dataframe thead th {\n",
       "        text-align: right;\n",
       "    }\n",
       "</style>\n",
       "<table border=\"1\" class=\"dataframe\">\n",
       "  <thead>\n",
       "    <tr style=\"text-align: right;\">\n",
       "      <th></th>\n",
       "      <th>Area</th>\n",
       "      <th>Bedrooms</th>\n",
       "      <th>Bathrooms</th>\n",
       "      <th>Age</th>\n",
       "      <th>Garage</th>\n",
       "      <th>Price</th>\n",
       "    </tr>\n",
       "  </thead>\n",
       "  <tbody>\n",
       "    <tr>\n",
       "      <th>count</th>\n",
       "      <td>5000.000000</td>\n",
       "      <td>5000.0000</td>\n",
       "      <td>5000.000000</td>\n",
       "      <td>4907.000000</td>\n",
       "      <td>5000.000000</td>\n",
       "      <td>5.000000e+03</td>\n",
       "    </tr>\n",
       "    <tr>\n",
       "      <th>mean</th>\n",
       "      <td>2567.655200</td>\n",
       "      <td>2.9982</td>\n",
       "      <td>1.976600</td>\n",
       "      <td>60.129407</td>\n",
       "      <td>1.008800</td>\n",
       "      <td>5.573903e+05</td>\n",
       "    </tr>\n",
       "    <tr>\n",
       "      <th>std</th>\n",
       "      <td>1120.887667</td>\n",
       "      <td>1.4140</td>\n",
       "      <td>0.819382</td>\n",
       "      <td>34.313983</td>\n",
       "      <td>0.819547</td>\n",
       "      <td>2.211179e+05</td>\n",
       "    </tr>\n",
       "    <tr>\n",
       "      <th>min</th>\n",
       "      <td>600.000000</td>\n",
       "      <td>1.0000</td>\n",
       "      <td>1.000000</td>\n",
       "      <td>1.000000</td>\n",
       "      <td>0.000000</td>\n",
       "      <td>4.047702e+04</td>\n",
       "    </tr>\n",
       "    <tr>\n",
       "      <th>25%</th>\n",
       "      <td>1592.750000</td>\n",
       "      <td>2.0000</td>\n",
       "      <td>1.000000</td>\n",
       "      <td>30.000000</td>\n",
       "      <td>0.000000</td>\n",
       "      <td>3.783680e+05</td>\n",
       "    </tr>\n",
       "    <tr>\n",
       "      <th>50%</th>\n",
       "      <td>2561.500000</td>\n",
       "      <td>3.0000</td>\n",
       "      <td>2.000000</td>\n",
       "      <td>60.000000</td>\n",
       "      <td>1.000000</td>\n",
       "      <td>5.477114e+05</td>\n",
       "    </tr>\n",
       "    <tr>\n",
       "      <th>75%</th>\n",
       "      <td>3550.250000</td>\n",
       "      <td>4.0000</td>\n",
       "      <td>3.000000</td>\n",
       "      <td>89.000000</td>\n",
       "      <td>2.000000</td>\n",
       "      <td>7.254004e+05</td>\n",
       "    </tr>\n",
       "    <tr>\n",
       "      <th>max</th>\n",
       "      <td>4499.000000</td>\n",
       "      <td>5.0000</td>\n",
       "      <td>3.000000</td>\n",
       "      <td>119.000000</td>\n",
       "      <td>2.000000</td>\n",
       "      <td>1.192210e+06</td>\n",
       "    </tr>\n",
       "  </tbody>\n",
       "</table>\n",
       "</div>"
      ],
      "text/plain": [
       "              Area   Bedrooms    Bathrooms          Age       Garage  \\\n",
       "count  5000.000000  5000.0000  5000.000000  4907.000000  5000.000000   \n",
       "mean   2567.655200     2.9982     1.976600    60.129407     1.008800   \n",
       "std    1120.887667     1.4140     0.819382    34.313983     0.819547   \n",
       "min     600.000000     1.0000     1.000000     1.000000     0.000000   \n",
       "25%    1592.750000     2.0000     1.000000    30.000000     0.000000   \n",
       "50%    2561.500000     3.0000     2.000000    60.000000     1.000000   \n",
       "75%    3550.250000     4.0000     3.000000    89.000000     2.000000   \n",
       "max    4499.000000     5.0000     3.000000   119.000000     2.000000   \n",
       "\n",
       "              Price  \n",
       "count  5.000000e+03  \n",
       "mean   5.573903e+05  \n",
       "std    2.211179e+05  \n",
       "min    4.047702e+04  \n",
       "25%    3.783680e+05  \n",
       "50%    5.477114e+05  \n",
       "75%    7.254004e+05  \n",
       "max    1.192210e+06  "
      ]
     },
     "execution_count": 18,
     "metadata": {},
     "output_type": "execute_result"
    }
   ],
   "source": [
    "#Statiscal description/detail of the dataset\n",
    "df.describe()"
   ]
  },
  {
   "cell_type": "code",
   "execution_count": 21,
   "id": "e6e728e1",
   "metadata": {},
   "outputs": [
    {
     "data": {
      "text/plain": [
       "True"
      ]
     },
     "execution_count": 21,
     "metadata": {},
     "output_type": "execute_result"
    }
   ],
   "source": [
    "True == 1"
   ]
  },
  {
   "cell_type": "code",
   "execution_count": 23,
   "id": "38934891",
   "metadata": {},
   "outputs": [
    {
     "data": {
      "text/plain": [
       "True"
      ]
     },
     "execution_count": 23,
     "metadata": {},
     "output_type": "execute_result"
    }
   ],
   "source": [
    "False == 0"
   ]
  },
  {
   "cell_type": "code",
   "execution_count": 19,
   "id": "c02f8396",
   "metadata": {},
   "outputs": [
    {
     "data": {
      "text/html": [
       "<div>\n",
       "<style scoped>\n",
       "    .dataframe tbody tr th:only-of-type {\n",
       "        vertical-align: middle;\n",
       "    }\n",
       "\n",
       "    .dataframe tbody tr th {\n",
       "        vertical-align: top;\n",
       "    }\n",
       "\n",
       "    .dataframe thead th {\n",
       "        text-align: right;\n",
       "    }\n",
       "</style>\n",
       "<table border=\"1\" class=\"dataframe\">\n",
       "  <thead>\n",
       "    <tr style=\"text-align: right;\">\n",
       "      <th></th>\n",
       "      <th>Location</th>\n",
       "    </tr>\n",
       "  </thead>\n",
       "  <tbody>\n",
       "    <tr>\n",
       "      <th>count</th>\n",
       "      <td>4969</td>\n",
       "    </tr>\n",
       "    <tr>\n",
       "      <th>unique</th>\n",
       "      <td>5</td>\n",
       "    </tr>\n",
       "    <tr>\n",
       "      <th>top</th>\n",
       "      <td>Location2</td>\n",
       "    </tr>\n",
       "    <tr>\n",
       "      <th>freq</th>\n",
       "      <td>1051</td>\n",
       "    </tr>\n",
       "  </tbody>\n",
       "</table>\n",
       "</div>"
      ],
      "text/plain": [
       "         Location\n",
       "count        4969\n",
       "unique          5\n",
       "top     Location2\n",
       "freq         1051"
      ]
     },
     "execution_count": 19,
     "metadata": {},
     "output_type": "execute_result"
    }
   ],
   "source": [
    "df.describe(include='O')"
   ]
  },
  {
   "cell_type": "code",
   "execution_count": 20,
   "id": "9389cbf6",
   "metadata": {},
   "outputs": [
    {
     "data": {
      "text/plain": [
       "Area          0\n",
       "Bedrooms      0\n",
       "Bathrooms     0\n",
       "Location     31\n",
       "Age          93\n",
       "Garage        0\n",
       "Price         0\n",
       "dtype: int64"
      ]
     },
     "execution_count": 20,
     "metadata": {},
     "output_type": "execute_result"
    }
   ],
   "source": [
    "df.isnull().sum()"
   ]
  },
  {
   "cell_type": "code",
   "execution_count": 29,
   "id": "d585a0cb",
   "metadata": {},
   "outputs": [],
   "source": [
    "#changing column names to small letters\n",
    "\n",
    "df.columns= [x.lower() for x in df.columns]"
   ]
  },
  {
   "cell_type": "code",
   "execution_count": 33,
   "id": "fc18f77d",
   "metadata": {},
   "outputs": [
    {
     "data": {
      "text/plain": [
       "Index(['area', 'bedrooms', 'bathrooms', 'location', 'age', 'garage', 'price'], dtype='object')"
      ]
     },
     "execution_count": 33,
     "metadata": {},
     "output_type": "execute_result"
    }
   ],
   "source": [
    "df.columns"
   ]
  },
  {
   "cell_type": "code",
   "execution_count": 32,
   "id": "f4007dc7",
   "metadata": {},
   "outputs": [
    {
     "data": {
      "text/html": [
       "<div>\n",
       "<style scoped>\n",
       "    .dataframe tbody tr th:only-of-type {\n",
       "        vertical-align: middle;\n",
       "    }\n",
       "\n",
       "    .dataframe tbody tr th {\n",
       "        vertical-align: top;\n",
       "    }\n",
       "\n",
       "    .dataframe thead th {\n",
       "        text-align: right;\n",
       "    }\n",
       "</style>\n",
       "<table border=\"1\" class=\"dataframe\">\n",
       "  <thead>\n",
       "    <tr style=\"text-align: right;\">\n",
       "      <th></th>\n",
       "      <th>area</th>\n",
       "      <th>bedrooms</th>\n",
       "      <th>bathrooms</th>\n",
       "      <th>location</th>\n",
       "      <th>age</th>\n",
       "      <th>garage</th>\n",
       "      <th>price</th>\n",
       "    </tr>\n",
       "  </thead>\n",
       "  <tbody>\n",
       "    <tr>\n",
       "      <th>0</th>\n",
       "      <td>3774</td>\n",
       "      <td>4</td>\n",
       "      <td>2</td>\n",
       "      <td>Location3</td>\n",
       "      <td>23.0</td>\n",
       "      <td>0</td>\n",
       "      <td>814142.617200</td>\n",
       "    </tr>\n",
       "    <tr>\n",
       "      <th>1</th>\n",
       "      <td>4107</td>\n",
       "      <td>2</td>\n",
       "      <td>2</td>\n",
       "      <td>Location3</td>\n",
       "      <td>46.0</td>\n",
       "      <td>0</td>\n",
       "      <td>836259.082065</td>\n",
       "    </tr>\n",
       "    <tr>\n",
       "      <th>2</th>\n",
       "      <td>1460</td>\n",
       "      <td>3</td>\n",
       "      <td>3</td>\n",
       "      <td>Location2</td>\n",
       "      <td>113.0</td>\n",
       "      <td>1</td>\n",
       "      <td>296721.573960</td>\n",
       "    </tr>\n",
       "    <tr>\n",
       "      <th>3</th>\n",
       "      <td>1894</td>\n",
       "      <td>5</td>\n",
       "      <td>2</td>\n",
       "      <td>NaN</td>\n",
       "      <td>30.0</td>\n",
       "      <td>0</td>\n",
       "      <td>399099.591046</td>\n",
       "    </tr>\n",
       "    <tr>\n",
       "      <th>4</th>\n",
       "      <td>1730</td>\n",
       "      <td>3</td>\n",
       "      <td>2</td>\n",
       "      <td>Location5</td>\n",
       "      <td>67.0</td>\n",
       "      <td>0</td>\n",
       "      <td>441862.941002</td>\n",
       "    </tr>\n",
       "  </tbody>\n",
       "</table>\n",
       "</div>"
      ],
      "text/plain": [
       "   area  bedrooms  bathrooms   location    age  garage          price\n",
       "0  3774         4          2  Location3   23.0       0  814142.617200\n",
       "1  4107         2          2  Location3   46.0       0  836259.082065\n",
       "2  1460         3          3  Location2  113.0       1  296721.573960\n",
       "3  1894         5          2        NaN   30.0       0  399099.591046\n",
       "4  1730         3          2  Location5   67.0       0  441862.941002"
      ]
     },
     "execution_count": 32,
     "metadata": {},
     "output_type": "execute_result"
    }
   ],
   "source": [
    "df.head()"
   ]
  },
  {
   "cell_type": "markdown",
   "id": "1cf3cc3b",
   "metadata": {},
   "source": [
    "## Dealing with missing values"
   ]
  },
  {
   "cell_type": "code",
   "execution_count": 36,
   "id": "abc32a72",
   "metadata": {},
   "outputs": [
    {
     "data": {
      "image/png": "[encoded data removed]",
      "text/plain": [
       "<Figure size 640x480 with 1 Axes>"
      ]
     },
     "metadata": {},
     "output_type": "display_data"
    }
   ],
   "source": [
    "#count of all the location where the data was gotten from\n",
    "sns.countplot(y=df.location, color='blue', order = df.location.value_counts().keys());"
   ]
  },
  {
   "cell_type": "code",
   "execution_count": 34,
   "id": "c29cba0a",
   "metadata": {},
   "outputs": [
    {
     "data": {
      "text/plain": [
       "0       Location3\n",
       "1       Location3\n",
       "2       Location2\n",
       "3             NaN\n",
       "4       Location5\n",
       "          ...    \n",
       "4995    Location3\n",
       "4996    Location4\n",
       "4997    Location2\n",
       "4998    Location5\n",
       "4999    Location2\n",
       "Name: location, Length: 5000, dtype: object"
      ]
     },
     "execution_count": 34,
     "metadata": {},
     "output_type": "execute_result"
    }
   ],
   "source": [
    "df['location']\n",
    "#or df.location is same"
   ]
  },
  {
   "cell_type": "code",
   "execution_count": 38,
   "id": "ed1f63be",
   "metadata": {},
   "outputs": [
    {
     "data": {
      "text/plain": [
       "0    Location2\n",
       "Name: location, dtype: object"
      ]
     },
     "execution_count": 38,
     "metadata": {},
     "output_type": "execute_result"
    }
   ],
   "source": [
    "df.location.mode()"
   ]
  },
  {
   "cell_type": "markdown",
   "id": "a5ff0c5f",
   "metadata": {},
   "source": [
    "### We will fill the missing value with the mode Location(ie Location that occured the most)"
   ]
  },
  {
   "cell_type": "code",
   "execution_count": 39,
   "id": "252fd380",
   "metadata": {},
   "outputs": [],
   "source": [
    "most_location=df.location.mode()[0]"
   ]
  },
  {
   "cell_type": "code",
   "execution_count": 40,
   "id": "4ec5cfea",
   "metadata": {},
   "outputs": [
    {
     "data": {
      "text/plain": [
       "'Location2'"
      ]
     },
     "execution_count": 40,
     "metadata": {},
     "output_type": "execute_result"
    }
   ],
   "source": [
    "most_location"
   ]
  },
  {
   "cell_type": "code",
   "execution_count": 41,
   "id": "d47a0773",
   "metadata": {},
   "outputs": [],
   "source": [
    "#df.location.fillna(most_location, inplace= true)\n",
    "df.location=df.location.fillna(most_location)"
   ]
  },
  {
   "cell_type": "markdown",
   "id": "188968b7",
   "metadata": {},
   "source": [
    "### for Age"
   ]
  },
  {
   "cell_type": "code",
   "execution_count": 42,
   "id": "13c36f9d",
   "metadata": {},
   "outputs": [
    {
     "data": {
      "text/plain": [
       "<bound method IndexOpsMixin.value_counts of 0        23.0\n",
       "1        46.0\n",
       "2       113.0\n",
       "3        30.0\n",
       "4        67.0\n",
       "        ...  \n",
       "4995    118.0\n",
       "4996     24.0\n",
       "4997     66.0\n",
       "4998     95.0\n",
       "4999     86.0\n",
       "Name: age, Length: 5000, dtype: float64>"
      ]
     },
     "execution_count": 42,
     "metadata": {},
     "output_type": "execute_result"
    }
   ],
   "source": [
    "df.age.value_counts"
   ]
  },
  {
   "cell_type": "code",
   "execution_count": 48,
   "id": "5277f9ef",
   "metadata": {},
   "outputs": [],
   "source": [
    "age_mean= int(df.age.mean())"
   ]
  },
  {
   "cell_type": "code",
   "execution_count": 49,
   "id": "46445676",
   "metadata": {},
   "outputs": [
    {
     "data": {
      "text/plain": [
       "60"
      ]
     },
     "execution_count": 49,
     "metadata": {},
     "output_type": "execute_result"
    }
   ],
   "source": [
    "age_mean"
   ]
  },
  {
   "cell_type": "code",
   "execution_count": 44,
   "id": "36053493",
   "metadata": {},
   "outputs": [],
   "source": [
    "df.age= df.age.fillna(age_mean)"
   ]
  },
  {
   "cell_type": "code",
   "execution_count": 55,
   "id": "27e5a589",
   "metadata": {},
   "outputs": [
    {
     "data": {
      "text/plain": [
       "Index(['area', 'bedrooms', 'bathrooms', 'location', 'age', 'garage', 'price'], dtype='object')"
      ]
     },
     "execution_count": 55,
     "metadata": {},
     "output_type": "execute_result"
    }
   ],
   "source": [
    "df.columns"
   ]
  },
  {
   "cell_type": "code",
   "execution_count": null,
   "id": "7e9d151a",
   "metadata": {},
   "outputs": [],
   "source": []
  },
  {
   "cell_type": "code",
   "execution_count": 56,
   "id": "0194b3b8",
   "metadata": {},
   "outputs": [
    {
     "data": {
      "image/png": "[encoded data removed]",
      "text/plain": [
       "<Figure size 640x480 with 2 Axes>"
      ]
     },
     "metadata": {},
     "output_type": "display_data"
    }
   ],
   "source": [
    "sns.heatmap(df.drop('location', axis=1).corr());"
   ]
  },
  {
   "cell_type": "markdown",
   "id": "6b508fd7",
   "metadata": {},
   "source": [
    "# Feature Engineering"
   ]
  },
  {
   "cell_type": "code",
   "execution_count": 57,
   "id": "afd24136",
   "metadata": {},
   "outputs": [
    {
     "data": {
      "text/html": [
       "<div>\n",
       "<style scoped>\n",
       "    .dataframe tbody tr th:only-of-type {\n",
       "        vertical-align: middle;\n",
       "    }\n",
       "\n",
       "    .dataframe tbody tr th {\n",
       "        vertical-align: top;\n",
       "    }\n",
       "\n",
       "    .dataframe thead th {\n",
       "        text-align: right;\n",
       "    }\n",
       "</style>\n",
       "<table border=\"1\" class=\"dataframe\">\n",
       "  <thead>\n",
       "    <tr style=\"text-align: right;\">\n",
       "      <th></th>\n",
       "      <th>area</th>\n",
       "      <th>bedrooms</th>\n",
       "      <th>bathrooms</th>\n",
       "      <th>location</th>\n",
       "      <th>age</th>\n",
       "      <th>garage</th>\n",
       "      <th>price</th>\n",
       "    </tr>\n",
       "  </thead>\n",
       "  <tbody>\n",
       "    <tr>\n",
       "      <th>0</th>\n",
       "      <td>3774</td>\n",
       "      <td>4</td>\n",
       "      <td>2</td>\n",
       "      <td>Location3</td>\n",
       "      <td>23.0</td>\n",
       "      <td>0</td>\n",
       "      <td>814142.617200</td>\n",
       "    </tr>\n",
       "    <tr>\n",
       "      <th>1</th>\n",
       "      <td>4107</td>\n",
       "      <td>2</td>\n",
       "      <td>2</td>\n",
       "      <td>Location3</td>\n",
       "      <td>46.0</td>\n",
       "      <td>0</td>\n",
       "      <td>836259.082065</td>\n",
       "    </tr>\n",
       "    <tr>\n",
       "      <th>2</th>\n",
       "      <td>1460</td>\n",
       "      <td>3</td>\n",
       "      <td>3</td>\n",
       "      <td>Location2</td>\n",
       "      <td>113.0</td>\n",
       "      <td>1</td>\n",
       "      <td>296721.573960</td>\n",
       "    </tr>\n",
       "    <tr>\n",
       "      <th>3</th>\n",
       "      <td>1894</td>\n",
       "      <td>5</td>\n",
       "      <td>2</td>\n",
       "      <td>Location2</td>\n",
       "      <td>30.0</td>\n",
       "      <td>0</td>\n",
       "      <td>399099.591046</td>\n",
       "    </tr>\n",
       "    <tr>\n",
       "      <th>4</th>\n",
       "      <td>1730</td>\n",
       "      <td>3</td>\n",
       "      <td>2</td>\n",
       "      <td>Location5</td>\n",
       "      <td>67.0</td>\n",
       "      <td>0</td>\n",
       "      <td>441862.941002</td>\n",
       "    </tr>\n",
       "  </tbody>\n",
       "</table>\n",
       "</div>"
      ],
      "text/plain": [
       "   area  bedrooms  bathrooms   location    age  garage          price\n",
       "0  3774         4          2  Location3   23.0       0  814142.617200\n",
       "1  4107         2          2  Location3   46.0       0  836259.082065\n",
       "2  1460         3          3  Location2  113.0       1  296721.573960\n",
       "3  1894         5          2  Location2   30.0       0  399099.591046\n",
       "4  1730         3          2  Location5   67.0       0  441862.941002"
      ]
     },
     "execution_count": 57,
     "metadata": {},
     "output_type": "execute_result"
    }
   ],
   "source": [
    "df.head()"
   ]
  },
  {
   "cell_type": "code",
   "execution_count": 59,
   "id": "19d32c54",
   "metadata": {},
   "outputs": [],
   "source": [
    "df['rooms']=df['bedrooms'] + df['bathrooms']"
   ]
  },
  {
   "cell_type": "code",
   "execution_count": 60,
   "id": "37f26177",
   "metadata": {},
   "outputs": [
    {
     "data": {
      "text/html": [
       "<div>\n",
       "<style scoped>\n",
       "    .dataframe tbody tr th:only-of-type {\n",
       "        vertical-align: middle;\n",
       "    }\n",
       "\n",
       "    .dataframe tbody tr th {\n",
       "        vertical-align: top;\n",
       "    }\n",
       "\n",
       "    .dataframe thead th {\n",
       "        text-align: right;\n",
       "    }\n",
       "</style>\n",
       "<table border=\"1\" class=\"dataframe\">\n",
       "  <thead>\n",
       "    <tr style=\"text-align: right;\">\n",
       "      <th></th>\n",
       "      <th>area</th>\n",
       "      <th>bedrooms</th>\n",
       "      <th>bathrooms</th>\n",
       "      <th>location</th>\n",
       "      <th>age</th>\n",
       "      <th>garage</th>\n",
       "      <th>price</th>\n",
       "      <th>rooms</th>\n",
       "    </tr>\n",
       "  </thead>\n",
       "  <tbody>\n",
       "    <tr>\n",
       "      <th>0</th>\n",
       "      <td>3774</td>\n",
       "      <td>4</td>\n",
       "      <td>2</td>\n",
       "      <td>Location3</td>\n",
       "      <td>23.0</td>\n",
       "      <td>0</td>\n",
       "      <td>814142.617200</td>\n",
       "      <td>6</td>\n",
       "    </tr>\n",
       "    <tr>\n",
       "      <th>1</th>\n",
       "      <td>4107</td>\n",
       "      <td>2</td>\n",
       "      <td>2</td>\n",
       "      <td>Location3</td>\n",
       "      <td>46.0</td>\n",
       "      <td>0</td>\n",
       "      <td>836259.082065</td>\n",
       "      <td>4</td>\n",
       "    </tr>\n",
       "    <tr>\n",
       "      <th>2</th>\n",
       "      <td>1460</td>\n",
       "      <td>3</td>\n",
       "      <td>3</td>\n",
       "      <td>Location2</td>\n",
       "      <td>113.0</td>\n",
       "      <td>1</td>\n",
       "      <td>296721.573960</td>\n",
       "      <td>6</td>\n",
       "    </tr>\n",
       "    <tr>\n",
       "      <th>3</th>\n",
       "      <td>1894</td>\n",
       "      <td>5</td>\n",
       "      <td>2</td>\n",
       "      <td>Location2</td>\n",
       "      <td>30.0</td>\n",
       "      <td>0</td>\n",
       "      <td>399099.591046</td>\n",
       "      <td>7</td>\n",
       "    </tr>\n",
       "    <tr>\n",
       "      <th>4</th>\n",
       "      <td>1730</td>\n",
       "      <td>3</td>\n",
       "      <td>2</td>\n",
       "      <td>Location5</td>\n",
       "      <td>67.0</td>\n",
       "      <td>0</td>\n",
       "      <td>441862.941002</td>\n",
       "      <td>5</td>\n",
       "    </tr>\n",
       "  </tbody>\n",
       "</table>\n",
       "</div>"
      ],
      "text/plain": [
       "   area  bedrooms  bathrooms   location    age  garage          price  rooms\n",
       "0  3774         4          2  Location3   23.0       0  814142.617200      6\n",
       "1  4107         2          2  Location3   46.0       0  836259.082065      4\n",
       "2  1460         3          3  Location2  113.0       1  296721.573960      6\n",
       "3  1894         5          2  Location2   30.0       0  399099.591046      7\n",
       "4  1730         3          2  Location5   67.0       0  441862.941002      5"
      ]
     },
     "execution_count": 60,
     "metadata": {},
     "output_type": "execute_result"
    }
   ],
   "source": [
    "df.head()"
   ]
  },
  {
   "cell_type": "code",
   "execution_count": 61,
   "id": "d01b5d53",
   "metadata": {},
   "outputs": [],
   "source": [
    "df['average_room'] = df['area'] / df['bedrooms']"
   ]
  },
  {
   "cell_type": "code",
   "execution_count": 62,
   "id": "3b9a4104",
   "metadata": {},
   "outputs": [
    {
     "data": {
      "text/html": [
       "<div>\n",
       "<style scoped>\n",
       "    .dataframe tbody tr th:only-of-type {\n",
       "        vertical-align: middle;\n",
       "    }\n",
       "\n",
       "    .dataframe tbody tr th {\n",
       "        vertical-align: top;\n",
       "    }\n",
       "\n",
       "    .dataframe thead th {\n",
       "        text-align: right;\n",
       "    }\n",
       "</style>\n",
       "<table border=\"1\" class=\"dataframe\">\n",
       "  <thead>\n",
       "    <tr style=\"text-align: right;\">\n",
       "      <th></th>\n",
       "      <th>area</th>\n",
       "      <th>bedrooms</th>\n",
       "      <th>bathrooms</th>\n",
       "      <th>location</th>\n",
       "      <th>age</th>\n",
       "      <th>garage</th>\n",
       "      <th>price</th>\n",
       "      <th>rooms</th>\n",
       "      <th>average_room</th>\n",
       "    </tr>\n",
       "  </thead>\n",
       "  <tbody>\n",
       "    <tr>\n",
       "      <th>0</th>\n",
       "      <td>3774</td>\n",
       "      <td>4</td>\n",
       "      <td>2</td>\n",
       "      <td>Location3</td>\n",
       "      <td>23.0</td>\n",
       "      <td>0</td>\n",
       "      <td>814142.617200</td>\n",
       "      <td>6</td>\n",
       "      <td>943.500000</td>\n",
       "    </tr>\n",
       "    <tr>\n",
       "      <th>1</th>\n",
       "      <td>4107</td>\n",
       "      <td>2</td>\n",
       "      <td>2</td>\n",
       "      <td>Location3</td>\n",
       "      <td>46.0</td>\n",
       "      <td>0</td>\n",
       "      <td>836259.082065</td>\n",
       "      <td>4</td>\n",
       "      <td>2053.500000</td>\n",
       "    </tr>\n",
       "    <tr>\n",
       "      <th>2</th>\n",
       "      <td>1460</td>\n",
       "      <td>3</td>\n",
       "      <td>3</td>\n",
       "      <td>Location2</td>\n",
       "      <td>113.0</td>\n",
       "      <td>1</td>\n",
       "      <td>296721.573960</td>\n",
       "      <td>6</td>\n",
       "      <td>486.666667</td>\n",
       "    </tr>\n",
       "    <tr>\n",
       "      <th>3</th>\n",
       "      <td>1894</td>\n",
       "      <td>5</td>\n",
       "      <td>2</td>\n",
       "      <td>Location2</td>\n",
       "      <td>30.0</td>\n",
       "      <td>0</td>\n",
       "      <td>399099.591046</td>\n",
       "      <td>7</td>\n",
       "      <td>378.800000</td>\n",
       "    </tr>\n",
       "    <tr>\n",
       "      <th>4</th>\n",
       "      <td>1730</td>\n",
       "      <td>3</td>\n",
       "      <td>2</td>\n",
       "      <td>Location5</td>\n",
       "      <td>67.0</td>\n",
       "      <td>0</td>\n",
       "      <td>441862.941002</td>\n",
       "      <td>5</td>\n",
       "      <td>576.666667</td>\n",
       "    </tr>\n",
       "  </tbody>\n",
       "</table>\n",
       "</div>"
      ],
      "text/plain": [
       "   area  bedrooms  bathrooms   location    age  garage          price  rooms  \\\n",
       "0  3774         4          2  Location3   23.0       0  814142.617200      6   \n",
       "1  4107         2          2  Location3   46.0       0  836259.082065      4   \n",
       "2  1460         3          3  Location2  113.0       1  296721.573960      6   \n",
       "3  1894         5          2  Location2   30.0       0  399099.591046      7   \n",
       "4  1730         3          2  Location5   67.0       0  441862.941002      5   \n",
       "\n",
       "   average_room  \n",
       "0    943.500000  \n",
       "1   2053.500000  \n",
       "2    486.666667  \n",
       "3    378.800000  \n",
       "4    576.666667  "
      ]
     },
     "execution_count": 62,
     "metadata": {},
     "output_type": "execute_result"
    }
   ],
   "source": [
    "df.head()"
   ]
  },
  {
   "cell_type": "code",
   "execution_count": null,
   "id": "603a2062",
   "metadata": {},
   "outputs": [],
   "source": []
  }
 ],
 "metadata": {
  "kernelspec": {
   "display_name": "Python 3 (ipykernel)",
   "language": "python",
   "name": "python3"
  },
  "language_info": {
   "codemirror_mode": {
    "name": "ipython",
    "version": 3
   },
   "file_extension": ".py",
   "mimetype": "text/x-python",
   "name": "python",
   "nbconvert_exporter": "python",
   "pygments_lexer": "ipython3",
   "version": "3.11.5"
  }
 },
 "nbformat": 4,
 "nbformat_minor": 5
}
