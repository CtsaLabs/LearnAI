{
 "cells": [
  {
   "cell_type": "code",
   "execution_count": 1,
   "id": "6e76c82f",
   "metadata": {},
   "outputs": [
    {
     "data": {
      "text/plain": [
       "146"
      ]
     },
     "execution_count": 1,
     "metadata": {},
     "output_type": "execute_result"
    }
   ],
   "source": [
    "90+56\n"
   ]
  },
  {
   "cell_type": "markdown",
   "id": "3be324e9",
   "metadata": {},
   "source": [
    "A- for new cell above\n",
    "B- for new cell below\n",
    "esc M- for making a markup\n",
    "Z-for undo\n",
    "shift + enter - for run a code"
   ]
  },
  {
   "cell_type": "code",
   "execution_count": 2,
   "id": "0cd06f2a",
   "metadata": {},
   "outputs": [
    {
     "data": {
      "text/plain": [
       "30"
      ]
     },
     "execution_count": 2,
     "metadata": {},
     "output_type": "execute_result"
    }
   ],
   "source": [
    "x=30\n",
    "y=95\n",
    "x%y"
   ]
  },
  {
   "cell_type": "code",
   "execution_count": 3,
   "id": "b93e01de",
   "metadata": {},
   "outputs": [
    {
     "data": {
      "text/plain": [
       "5"
      ]
     },
     "execution_count": 3,
     "metadata": {},
     "output_type": "execute_result"
    }
   ],
   "source": [
    "y%x\n"
   ]
  },
  {
   "cell_type": "code",
   "execution_count": 4,
   "id": "d7c6f90b",
   "metadata": {},
   "outputs": [
    {
     "data": {
      "text/plain": [
       "2850"
      ]
     },
     "execution_count": 4,
     "metadata": {},
     "output_type": "execute_result"
    }
   ],
   "source": [
    "x*y"
   ]
  },
  {
   "cell_type": "code",
   "execution_count": 6,
   "id": "1250ba87",
   "metadata": {},
   "outputs": [
    {
     "data": {
      "text/plain": [
       "32"
      ]
     },
     "execution_count": 6,
     "metadata": {},
     "output_type": "execute_result"
    }
   ],
   "source": [
    "2**5 #modulus"
   ]
  },
  {
   "cell_type": "code",
   "execution_count": 7,
   "id": "e8289105",
   "metadata": {},
   "outputs": [],
   "source": [
    "firstname='Olaoluwa'\n",
    "lastname='Adekoye'\n",
    "callname='Collins'\n",
    "fullName=firstname +' '+ callname + ' ' + lastname"
   ]
  },
  {
   "cell_type": "code",
   "execution_count": 8,
   "id": "4962fbc9",
   "metadata": {},
   "outputs": [
    {
     "data": {
      "text/plain": [
       "'Olaoluwa Collins Adekoye'"
      ]
     },
     "execution_count": 8,
     "metadata": {},
     "output_type": "execute_result"
    }
   ],
   "source": [
    "fullName"
   ]
  },
  {
   "cell_type": "code",
   "execution_count": 9,
   "id": "795da2b9",
   "metadata": {},
   "outputs": [],
   "source": [
    "fullName=fullName.upper()"
   ]
  },
  {
   "cell_type": "code",
   "execution_count": 11,
   "id": "3f709110",
   "metadata": {},
   "outputs": [
    {
     "data": {
      "text/plain": [
       "['OLAOLUWA', 'COLLINS', 'ADEKOYE']"
      ]
     },
     "execution_count": 11,
     "metadata": {},
     "output_type": "execute_result"
    }
   ],
   "source": [
    "fullName\n",
    "fullName.split()"
   ]
  },
  {
   "cell_type": "code",
   "execution_count": 12,
   "id": "2bfcdd25",
   "metadata": {
    "scrolled": true
   },
   "outputs": [
    {
     "data": {
      "text/plain": [
       "'OLAOLUWA COLLINS ADEKOYE'"
      ]
     },
     "execution_count": 12,
     "metadata": {},
     "output_type": "execute_result"
    }
   ],
   "source": [
    "fullName"
   ]
  },
  {
   "cell_type": "code",
   "execution_count": 14,
   "id": "122c5c63",
   "metadata": {},
   "outputs": [
    {
     "data": {
      "text/plain": [
       "'OLAOLUWA Akin ADEKOYE'"
      ]
     },
     "execution_count": 14,
     "metadata": {},
     "output_type": "execute_result"
    }
   ],
   "source": [
    "fullName.replace('COLLINS', 'Akin')"
   ]
  },
  {
   "cell_type": "markdown",
   "id": "7feb0136",
   "metadata": {},
   "source": [
    "#Python is case sensitive"
   ]
  },
  {
   "cell_type": "code",
   "execution_count": 15,
   "id": "8887f651",
   "metadata": {},
   "outputs": [
    {
     "data": {
      "text/plain": [
       "[45, 'OLAOLUWA COLLINS ADEKOYE', 3.14, 'cooler']"
      ]
     },
     "execution_count": 15,
     "metadata": {},
     "output_type": "execute_result"
    }
   ],
   "source": [
    "#Now lets look At Datastructures list\n",
    "my_list=[45,fullName,3.14,'cooler']\n",
    "my_list"
   ]
  },
  {
   "cell_type": "code",
   "execution_count": 20,
   "id": "b36352e7",
   "metadata": {},
   "outputs": [
    {
     "data": {
      "text/plain": [
       "45"
      ]
     },
     "execution_count": 20,
     "metadata": {},
     "output_type": "execute_result"
    }
   ],
   "source": [
    "my_list[0]"
   ]
  },
  {
   "cell_type": "code",
   "execution_count": 21,
   "id": "2bba8c4c",
   "metadata": {},
   "outputs": [],
   "source": [
    "my_list.append('data Bank')"
   ]
  },
  {
   "cell_type": "code",
   "execution_count": 22,
   "id": "f6a1bbbb",
   "metadata": {},
   "outputs": [
    {
     "data": {
      "text/plain": [
       "[45, 'OLAOLUWA COLLINS ADEKOYE', 3.14, 'cooler', 'data Bank']"
      ]
     },
     "execution_count": 22,
     "metadata": {},
     "output_type": "execute_result"
    }
   ],
   "source": [
    "my_list"
   ]
  },
  {
   "cell_type": "code",
   "execution_count": 23,
   "id": "3345c5f1",
   "metadata": {},
   "outputs": [],
   "source": [
    "my_list[-2]=78e4"
   ]
  },
  {
   "cell_type": "code",
   "execution_count": 24,
   "id": "e4f48130",
   "metadata": {
    "scrolled": true
   },
   "outputs": [
    {
     "data": {
      "text/plain": [
       "[45, 'OLAOLUWA COLLINS ADEKOYE', 3.14, 780000.0, 'data Bank']"
      ]
     },
     "execution_count": 24,
     "metadata": {},
     "output_type": "execute_result"
    }
   ],
   "source": [
    "my_list"
   ]
  },
  {
   "cell_type": "markdown",
   "id": "da7b324a",
   "metadata": {},
   "source": [
    "#A list[] is mutable but A Tuple() is unmutable, but same behaviour like a list but in round brackets()"
   ]
  },
  {
   "cell_type": "code",
   "execution_count": 25,
   "id": "d1965e7b",
   "metadata": {},
   "outputs": [
    {
     "data": {
      "text/plain": [
       "list"
      ]
     },
     "execution_count": 25,
     "metadata": {},
     "output_type": "execute_result"
    }
   ],
   "source": [
    "type(my_list)"
   ]
  },
  {
   "cell_type": "code",
   "execution_count": 26,
   "id": "5ba04a2b",
   "metadata": {},
   "outputs": [],
   "source": [
    "#eexamples of a tuple\n",
    "week_day=('Monday', 'Tuesday', 'Wednesday','Thursday','Friday')"
   ]
  },
  {
   "cell_type": "code",
   "execution_count": 27,
   "id": "ed727bca",
   "metadata": {},
   "outputs": [
    {
     "data": {
      "text/plain": [
       "('Monday', 'Tuesday', 'Wednesday', 'Thursday', 'Friday')"
      ]
     },
     "execution_count": 27,
     "metadata": {},
     "output_type": "execute_result"
    }
   ],
   "source": [
    "week_day"
   ]
  },
  {
   "cell_type": "code",
   "execution_count": 28,
   "id": "a690980c",
   "metadata": {},
   "outputs": [
    {
     "data": {
      "text/plain": [
       "tuple"
      ]
     },
     "execution_count": 28,
     "metadata": {},
     "output_type": "execute_result"
    }
   ],
   "source": [
    "type(week_day)"
   ]
  },
  {
   "cell_type": "code",
   "execution_count": 30,
   "id": "0140b980",
   "metadata": {},
   "outputs": [
    {
     "data": {
      "text/plain": [
       "['Monday', 'Tuesday', 'Wednesday', 'Thursday', 'Friday']"
      ]
     },
     "execution_count": 30,
     "metadata": {},
     "output_type": "execute_result"
    }
   ],
   "source": [
    "list(week_day)\n",
    "#turning a tuple into a list"
   ]
  },
  {
   "cell_type": "code",
   "execution_count": 31,
   "id": "9223c027",
   "metadata": {},
   "outputs": [
    {
     "data": {
      "text/plain": [
       "'Thursday'"
      ]
     },
     "execution_count": 31,
     "metadata": {},
     "output_type": "execute_result"
    }
   ],
   "source": [
    "week_day[3]"
   ]
  },
  {
   "cell_type": "code",
   "execution_count": null,
   "id": "92f183a4",
   "metadata": {},
   "outputs": [],
   "source": [
    "#Another data structure is sets\n"
   ]
  },
  {
   "cell_type": "markdown",
   "id": "45a3851d",
   "metadata": {},
   "source": [
    "Exercises\n",
    "1.\tWrite a Python program to check if a number is positive, negative or zero.\n",
    "2.\tCreate a list of five elements and use a 'for' loop to print each element.\n",
    "3.\tWrite a Python program to create a tuple with different data types.\n",
    "4.\tMake a set with five numbers and use a 'for' loop to display the set elements.\n",
    "5.\tCreate a dictionary with two keys and values, then print one of the values.\n"
   ]
  },
  {
   "cell_type": "code",
   "execution_count": 44,
   "id": "f682b80a",
   "metadata": {},
   "outputs": [
    {
     "name": "stdout",
     "output_type": "stream",
     "text": [
      "Olaolu Adekoye's designation: Professor\n"
     ]
    }
   ],
   "source": [
    "# Create a dictionary with information for five academic staff members\n",
    "academic_staff = {\n",
    "    'staff1': {'name': 'Olaolu Adekoye', 'designation': 'Professor'},\n",
    "    'staff2': {'name': 'Chuks Okonta', 'designation': 'Associate Professor'},\n",
    "    'staff3': {'name': 'Bob Edobor', 'designation': 'Assistant Professor'},\n",
    "    'staff4': {'name': 'Abubakar Sabiu', 'designation': 'Lecturer'},\n",
    "    'staff5': {'name': 'Baba Tchana', 'designation': 'Instructor'}\n",
    "}\n",
    "\n",
    "# Print the designation of one of the academic staff members\n",
    "selected_staff = 'staff1'\n",
    "print(f\"{academic_staff[selected_staff]['name']}'s designation: {academic_staff[selected_staff]['designation']}\")\n",
    "\n",
    "    \n"
   ]
  },
  {
   "cell_type": "code",
   "execution_count": null,
   "id": "70808cd4",
   "metadata": {},
   "outputs": [],
   "source": []
  }
 ],
 "metadata": {
  "kernelspec": {
   "display_name": "Python 3 (ipykernel)",
   "language": "python",
   "name": "python3"
  },
  "language_info": {
   "codemirror_mode": {
    "name": "ipython",
    "version": 3
   },
   "file_extension": ".py",
   "mimetype": "text/x-python",
   "name": "python",
   "nbconvert_exporter": "python",
   "pygments_lexer": "ipython3",
   "version": "3.11.5"
  }
 },
 "nbformat": 4,
 "nbformat_minor": 5
}
